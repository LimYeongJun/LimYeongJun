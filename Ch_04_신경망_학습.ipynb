{
  "nbformat": 4,
  "nbformat_minor": 0,
  "metadata": {
    "kernelspec": {
      "display_name": "Python 3",
      "language": "python",
      "name": "python3"
    },
    "language_info": {
      "codemirror_mode": {
        "name": "ipython",
        "version": 3
      },
      "file_extension": ".py",
      "mimetype": "text/x-python",
      "name": "python",
      "nbconvert_exporter": "python",
      "pygments_lexer": "ipython3",
      "version": "3.7.3"
    },
    "colab": {
      "name": "Ch.04 신경망 학습.ipynb",
      "version": "0.3.2",
      "provenance": [],
      "include_colab_link": true
    }
  },
  "cells": [
    {
      "cell_type": "markdown",
      "metadata": {
        "id": "view-in-github",
        "colab_type": "text"
      },
      "source": [
        "<a href=\"https://colab.research.google.com/github/LimYeongJun/LimYeongJun/blob/master/Ch_04_%EC%8B%A0%EA%B2%BD%EB%A7%9D_%ED%95%99%EC%8A%B5.ipynb\" target=\"_parent\"><img src=\"https://colab.research.google.com/assets/colab-badge.svg\" alt=\"Open In Colab\"/></a>"
      ]
    },
    {
      "cell_type": "markdown",
      "metadata": {
        "id": "EapHWj95ifyM",
        "colab_type": "text"
      },
      "source": [
        "# Ch.04 신경망 학습"
      ]
    },
    {
      "cell_type": "markdown",
      "metadata": {
        "id": "mcaJwC7IifyO",
        "colab_type": "text"
      },
      "source": [
        "### 손실함수 : 신경망이 학습할 수 있도록 해주는 지표"
      ]
    },
    {
      "cell_type": "markdown",
      "metadata": {
        "id": "rr33bDBPifyP",
        "colab_type": "text"
      },
      "source": [
        "* 퍼셉트론에서는 매개변수가 매우 적어서 사람이 수작업으로 매개변수 값을 설정. <br> 하지만 실제 신경망에서는 매개변수가 매우 많기 때문에(수천~수만) 이번 장에서는 신경망 학습에 대해서 설명하고, 파이썬으로 MNIST 데이터셋의 손글씨 숫자를 학습하는 코드를 구현하는 데 목적이 있음"
      ]
    },
    {
      "cell_type": "markdown",
      "metadata": {
        "id": "uUhRRExBifyQ",
        "colab_type": "text"
      },
      "source": [
        "## 4.1.1 데이터 주도학습"
      ]
    },
    {
      "cell_type": "markdown",
      "metadata": {
        "id": "tfyizDrrifyS",
        "colab_type": "text"
      },
      "source": [
        "* 사람의 직관 vs 기계학습\n",
        "\n",
        "* 사람의 경험과 직관을 단서로 시행착오를 거듭하며 일을 진행할 수도 있지만, 기계학습에서는 사람의 개입을 최소화.\n",
        "\n",
        "예를 들면, 5라는 숫자를 인식하는 프로그램을 구현할 때 글씨체가 다르더라도 인간의 직관으로 5를 구별할 수 있지만,<br>기계학습으로 알고리즘을 짜는 일은 매우 힘들다.\n",
        "\n",
        "--> 주어진 데이터를 잘 활용해서 해결해야 함. 그 방법으로 **특징**을 추출하고, 그 특징의 패턴을 기계학습 기술로 학습함.\n",
        "\n",
        "** 이미지의 특징은 주로 벡터로 기술. 여기서 중요한점은 이미지를 벡터로 변환할 때 사용하는 특징은 여전히 **사람**이 담당함.\n",
        "\n",
        "\n",
        "\n",
        "\n"
      ]
    },
    {
      "cell_type": "markdown",
      "metadata": {
        "id": "uyUeVRzoifyT",
        "colab_type": "text"
      },
      "source": [
        "## 4.2 손실함수(loss function)\n",
        "\n",
        "- 손실함수 : 신경망 학습에서 사용하는 지표. 임의의 함수를 사용할 수도 있지만 일반적으로는 평균 제곱 오차와 교차 엔트로피 오차를 사용"
      ]
    },
    {
      "cell_type": "code",
      "metadata": {
        "id": "ddf6KZKdifyU",
        "colab_type": "code",
        "colab": {},
        "outputId": "765e17a9-3c2a-4731-e890-21ac3a3a5d06"
      },
      "source": [
        "y = [0.1, 0.05, 0.6, 0.0, 0.05, 0.1, 0.0, 0.1, 0.0, 0.0]\n",
        "t = [0, 0, 1, 0, 0, 0, 0, 0, 0, 0]\n",
        "\n",
        "import numpy as np\n",
        "\n",
        "def mean_squared_error(y, t):\n",
        "    return 0.5 * np.sum((y-t)**2)\n",
        "\n",
        "mean_squared_error(np.array(y), np.array(t))\n",
        "\n",
        "y = [0.1, 0.05, 0.1, 0.0, 0.05, 0.1, 0.0, 0.6, 0.0, 0.0]\n",
        "mean_squared_error(np.array(y), np.array(t))\n",
        "\n",
        "\n",
        "\n"
      ],
      "execution_count": 0,
      "outputs": [
        {
          "output_type": "execute_result",
          "data": {
            "text/plain": [
              "0.5975"
            ]
          },
          "metadata": {
            "tags": []
          },
          "execution_count": 8
        }
      ]
    },
    {
      "cell_type": "markdown",
      "metadata": {
        "id": "dbCkRDOrifyZ",
        "colab_type": "text"
      },
      "source": [
        "위에서 본 것과 같이 정답은 2이고, 신경망의 출력이 2에서 가장 높은 경우 오차가 가장 적으므로 정답에 더 가까움."
      ]
    },
    {
      "cell_type": "markdown",
      "metadata": {
        "id": "cwKi18jDifyc",
        "colab_type": "text"
      },
      "source": [
        "- 교차 엔트로피 오차(cross entropy error)\n",
        "$$E = -\\sum_{k}^{} {t}_{k}log{y}_{k}$$\n",
        "이때, log는 자연로그\n"
      ]
    },
    {
      "cell_type": "code",
      "metadata": {
        "id": "acw2kgWGifye",
        "colab_type": "code",
        "colab": {},
        "outputId": "27b87049-0c71-43a3-95d9-357385fd1fe7"
      },
      "source": [
        "import numpy as np\n",
        "import matplotlib.pyplot as plt\n",
        "\n",
        "x = np.arange(0.0, 1.0, 0.2)\n",
        "plt.ylim(-5.0, 0.0)\n",
        "y = np.log(x)\n",
        "plt.plot(x,y)\n",
        "plt.show()"
      ],
      "execution_count": 0,
      "outputs": [
        {
          "output_type": "stream",
          "text": [
            "C:\\anaconda\\lib\\site-packages\\ipykernel_launcher.py:6: RuntimeWarning: divide by zero encountered in log\n",
            "  \n"
          ],
          "name": "stderr"
        },
        {
          "output_type": "display_data",
          "data": {
            "image/png": "[encoded data removed]",
            "text/plain": [
              "<Figure size 432x288 with 1 Axes>"
            ]
          },
          "metadata": {
            "tags": [],
            "needs_background": "light"
          }
        }
      ]
    },
    {
      "cell_type": "code",
      "metadata": {
        "id": "VbpFeD-Fifyi",
        "colab_type": "code",
        "colab": {},
        "outputId": "857bf8bd-6728-4b59-ceda-c04a6b74e9be"
      },
      "source": [
        "def cross_entropy_error(y, t):\n",
        "    delta = 1e-7\n",
        "    return -np.sum(t * np.log(y + delta))\n",
        "\n",
        "t = [0,0,1,0,0,0,0,0,0,0]\n",
        "y = [0.1, 0.05, 0.6, 0.0, 0.05, 0.1, 0.0, 0.1, 0.0, 0.0]\n",
        "cross_entropy_error(np.array(y), np.array(t))\n",
        "\n",
        "y = [0.1, 0.05, 0.1, 0.0, 0.05, 0.1, 0.0, 0.6, 0.0, 0.0]\n",
        "cross_entropy_error(np.array(y), np.array(t))"
      ],
      "execution_count": 0,
      "outputs": [
        {
          "output_type": "execute_result",
          "data": {
            "text/plain": [
              "2.302584092994546"
            ]
          },
          "metadata": {
            "tags": []
          },
          "execution_count": 8
        }
      ]
    },
    {
      "cell_type": "markdown",
      "metadata": {
        "id": "QnlnAzuIifyl",
        "colab_type": "text"
      },
      "source": [
        "### 4.2.3 미니배치 학습\n",
        "\n",
        "지금까지 데이터 하나에 대한 손실 함수만 생각했지만, 이제 훈련 데이터 모두에 대한 손실함수의 합을 구하는 방법을 생각해보자."
      ]
    },
    {
      "cell_type": "markdown",
      "metadata": {
        "id": "wa3wY-Kvifym",
        "colab_type": "text"
      },
      "source": [
        "교차 엔트로피 식 : $$E = -\\frac{1}{N}\\sum_{n}^{}\\sum_{k}^{}{t}_{nk}log{y}_{nk}$$\n",
        "데이터 1개에 대한 손실함수 식을 단순히 N 개의 데이터로 확장시킴. 그 후 N으로 나누어 평균손실함수를 구함<br>\n",
        "데이터의 갯수가 매우 많아지면 **미니배치** 방법을 사용<br>\n",
        "**미니배치(mini-batch) : 데이터 일부를 추려 전체의 근사치로 이용하는 방법**"
      ]
    },
    {
      "cell_type": "code",
      "metadata": {
        "id": "u5UpVck5ifyo",
        "colab_type": "code",
        "colab": {},
        "outputId": "a687c1c7-aa5a-467b-af53-e3f2e62c4444"
      },
      "source": [
        "import sys, os\n",
        "sys.path.append(os.pardir)\n",
        "import numpy as np\n",
        "from dataset.mnist import load_mnist\n",
        "\n",
        "(x_train, t_train), (x_test, t_test) = \\\n",
        "load_mnist(normalize=True, one_hot_label=True)\n",
        "\n",
        "print(x_train.shape)\n",
        "print(t_train.shape)\n",
        "\n",
        "train_size = x_train.shape[0]\n",
        "batch_size = 10\n",
        "batch_mask = np.random.choice(train_size, batch_size)\n",
        "x_batch = x_train[batch_mask]\n",
        "t_batch = t_train[batch_mask]\n",
        "\n",
        "np.random.choice(60000, 10)\n"
      ],
      "execution_count": 0,
      "outputs": [
        {
          "output_type": "stream",
          "text": [
            "(60000, 784)\n",
            "(60000, 10)\n"
          ],
          "name": "stdout"
        },
        {
          "output_type": "execute_result",
          "data": {
            "text/plain": [
              "array([ 5548, 56156,  2364,   444,  8302, 15578, 36231, 29989, 22243,\n",
              "        2267])"
            ]
          },
          "metadata": {
            "tags": []
          },
          "execution_count": 18
        }
      ]
    },
    {
      "cell_type": "markdown",
      "metadata": {
        "id": "kfG71SHHifyt",
        "colab_type": "text"
      },
      "source": [
        "이 결과는 책과 다르다. 무작위로 10개를 뽑았기 때문에, Out을 출력할 때 마다 바뀐다."
      ]
    },
    {
      "cell_type": "markdown",
      "metadata": {
        "id": "stzMxW2hifyu",
        "colab_type": "text"
      },
      "source": [
        "### 4.2.4 (배치용)교차 엔트로피 오차 구현하기"
      ]
    },
    {
      "cell_type": "code",
      "metadata": {
        "id": "-CbTQ9Upifyv",
        "colab_type": "code",
        "colab": {}
      },
      "source": [
        "def cross_entropy_error(y, t):\n",
        "    if y.ndim == 1:\n",
        "        t = t.reshape(1, t.size)\n",
        "        y = y.reshape(1, y.size)\n",
        "        \n",
        "        batch_size = y.shape[0]\n",
        "        return -np.sum(t * np.log(y + 1e-7)) / batch_size\n",
        "    \n"
      ],
      "execution_count": 0,
      "outputs": []
    },
    {
      "cell_type": "markdown",
      "metadata": {
        "id": "lK_jGIWUifyy",
        "colab_type": "text"
      },
      "source": [
        "y는 신경망의 출력, t는 정답 레이블<br>\n",
        "정답 레이블이 원-핫 인코딩이 아니라 2나 7같은 숫자 레이블로 주어졌을 때의 교차 엔트로피 오차는 다음과 같이 구현한다."
      ]
    },
    {
      "cell_type": "code",
      "metadata": {
        "id": "Vvps_GwQifyz",
        "colab_type": "code",
        "colab": {}
      },
      "source": [
        "def cross_entropy_error(y, t):\n",
        "    if y.ndim == 1:\n",
        "        t = t.reshape(1, t.size)\n",
        "        y = y.reshape(1, y.size)\n",
        "        \n",
        "    batch_size = y.shape[0]\n",
        "    return -np.sum(np.log(y[np.arange(batch_size), t] + 1e-7)) / batch_size"
      ],
      "execution_count": 0,
      "outputs": []
    },
    {
      "cell_type": "markdown",
      "metadata": {
        "id": "atuKZDbdify6",
        "colab_type": "text"
      },
      "source": [
        "**이 구현에서는 원-핫 인코딩일 때 t가 0인 원소는 교차 엔트로피 오차도 0이므로, 그 계산은 무시해도 좋다는 것이 핵심**"
      ]
    },
    {
      "cell_type": "code",
      "metadata": {
        "id": "iTYdUMbzify_",
        "colab_type": "code",
        "colab": {}
      },
      "source": [
        ""
      ],
      "execution_count": 0,
      "outputs": []
    }
  ]
}